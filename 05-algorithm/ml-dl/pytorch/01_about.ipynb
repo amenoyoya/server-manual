{
 "metadata": {
  "language_info": {
   "codemirror_mode": {
    "name": "ipython",
    "version": 3
   },
   "file_extension": ".py",
   "mimetype": "text/x-python",
   "name": "python",
   "nbconvert_exporter": "python",
   "pygments_lexer": "ipython3",
   "version": "3.6.12-final"
  },
  "orig_nbformat": 2,
  "kernelspec": {
   "name": "python3",
   "display_name": "Python 3.6.12 64-bit ('py36': conda)",
   "metadata": {
    "interpreter": {
     "hash": "d5c30a4d8490dd395bca36f12a552d7158dc09c4c52c479126297519412091bb"
    }
   }
  }
 },
 "nbformat": 4,
 "nbformat_minor": 2,
 "cells": [
  {
   "source": [
    "# PyTorch\n",
    "\n",
    "## PyTorchとは\n",
    "\n",
    "- Pythonをベースとした科学計算フレームワーク\n",
    "- PyTorchは以下に示す2つの機能を使用したいユーザを対象としている\n",
    "    - Numpyベースの演算の代わりに、GPUを用いた高速な演算の実施\n",
    "    - 高い柔軟性と実行速度を有したディープラーニング・プラットフォーム"
   ],
   "cell_type": "markdown",
   "metadata": {}
  },
  {
   "source": [
    "## Tensors（テンソル）\n",
    "\n",
    "- Numpy ndarrays のような多次元配列\n",
    "- PyTorchにおいてテンソルはGPU上でも使用可能なため、処理速度を向上させることもできる"
   ],
   "cell_type": "markdown",
   "metadata": {}
  },
  {
   "cell_type": "code",
   "execution_count": 2,
   "metadata": {},
   "outputs": [
    {
     "output_type": "stream",
     "name": "stdout",
     "text": [
      "tensor([[0., 0., 0.],\n        [0., 0., 0.],\n        [0., 0., 0.],\n        [0., 0., 0.],\n        [0., 0., 0.]])\n"
     ]
    }
   ],
   "source": [
    "# PyTorch を import\n",
    "import torch\n",
    "\n",
    "# 空の3x5行列（テンソル）を生成\n",
    "x = torch.empty(5, 3)\n",
    "print(x)"
   ]
  },
  {
   "cell_type": "code",
   "execution_count": 3,
   "metadata": {},
   "outputs": [
    {
     "output_type": "stream",
     "name": "stdout",
     "text": [
      "tensor([[0.4439, 0.0658, 0.7821],\n        [0.0810, 0.6266, 0.5267],\n        [0.0605, 0.4213, 0.7444],\n        [0.6444, 0.5903, 0.4697],\n        [0.7043, 0.5086, 0.7340]])\n"
     ]
    }
   ],
   "source": [
    "# 乱数で初期化された3x5行列を生成\n",
    "x = torch.rand(5, 3)\n",
    "print(x)"
   ]
  },
  {
   "cell_type": "code",
   "execution_count": 4,
   "metadata": {},
   "outputs": [
    {
     "output_type": "stream",
     "name": "stdout",
     "text": [
      "tensor([[0., 0., 0.],\n        [0., 0., 0.],\n        [0., 0., 0.],\n        [0., 0., 0.],\n        [0., 0., 0.]], dtype=torch.float64)\n"
     ]
    }
   ],
   "source": [
    "# double型の数値0で初期化された5x3行列を生成\n",
    "x = torch.zeros(5, 3, dtype=torch.double)\n",
    "print(x)"
   ]
  },
  {
   "cell_type": "code",
   "execution_count": 5,
   "metadata": {},
   "outputs": [
    {
     "output_type": "stream",
     "name": "stdout",
     "text": [
      "tensor([5.5000, 3.0000])\n"
     ]
    }
   ],
   "source": [
    "# 直接値を指定して1x2行列を生成\n",
    "x = torch.tensor([5.5, 3])\n",
    "print(x)"
   ]
  },
  {
   "source": [
    "### テンソルの操作（変形・変換等）\n",
    "\n",
    "- テンソル同士の加算:\n",
    "    - `x + y : return tensor`\n",
    "    - `torch.add(x, y) : return tensor`, `torch.add(x, y, out=result)`\n",
    "    - `y.add_(x) == (y += x)`\n",
    "- インデクシング・スライシング:\n",
    "    - `x[start:end, start:end, ...]`\n",
    "- リサイズ:\n",
    "    - `x.view(size1, size2, ...)`\n",
    "- その他: https://pytorch.org/docs/stable/torch.html"
   ],
   "cell_type": "markdown",
   "metadata": {}
  },
  {
   "cell_type": "code",
   "execution_count": null,
   "metadata": {},
   "outputs": [],
   "source": []
  }
 ]
}